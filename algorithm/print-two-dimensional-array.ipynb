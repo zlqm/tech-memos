{
 "cells": [
  {
   "cell_type": "markdown",
   "metadata": {},
   "source": [
    "# 旋转输出二维数组"
   ]
  },
  {
   "cell_type": "markdown",
   "metadata": {},
   "source": [
    "## 描述\n",
    "给出一个二维数组，分别按照顺时针、逆时针的方向遍历，打印出所有的元素"
   ]
  },
  {
   "cell_type": "markdown",
   "metadata": {},
   "source": [
    "## 示例\n",
    "\n",
    "### 例1\n",
    "\n",
    "* 输入\n",
    "   ```python\n",
    "   [\n",
    "    [1,  2,  3,  4],\n",
    "    [5,  6,  7,  8],\n",
    "    [9, 10, 11, 12]\n",
    "   ]\n",
    "   ```\n",
    "* 顺时针输出: 1,2,3,4,8,12,11,10,9,5,6,7\n",
    "* 逆时针输出：1,5,9,10,11,12,8,4,3,2,6,7"
   ]
  },
  {
   "cell_type": "code",
   "execution_count": 1,
   "metadata": {},
   "outputs": [],
   "source": [
    "def echo_array_clockwise(array):\n",
    "    \"\"\"顺时针输出二维数组\n",
    "    \"\"\"\n",
    "    min_row, max_row = 0, len(array) - 1\n",
    "    min_col, max_col = 0, len(array[0]) - 1\n",
    "    col_asc, row_asc = True, True\n",
    "    row, col = 0, 0\n",
    "    records = []\n",
    "    while (min_row < max_row or min_col < max_col):\n",
    "        # 横向： 打印一行中的元素\n",
    "        if col_asc:\n",
    "            col_args = (col, max_col + 1, 1)\n",
    "        else:\n",
    "            col_args = (col, min_col - 1, -1)\n",
    "        for col in range(*col_args):\n",
    "            records.append(array[row][col])\n",
    "        if col_asc:\n",
    "            row += 1\n",
    "            min_row += 1\n",
    "        else:\n",
    "            row -= 1\n",
    "            max_row -= 1\n",
    "        # 纵向：打印一列的元素\n",
    "        if row_asc:\n",
    "            row_args = (row, max_row + 1, 1)\n",
    "        else:\n",
    "            row_args = (row, min_row - 1, -1)\n",
    "        for row in range(*row_args):\n",
    "            records.append(array[row][col])\n",
    "        if row_asc:\n",
    "            col -= 1\n",
    "            max_col -= 1\n",
    "        else:\n",
    "            col += 1\n",
    "            min_col += 1\n",
    "\n",
    "        row_asc = not row_asc\n",
    "        col_asc = not col_asc\n",
    "    print(','.join(map(str, records)))"
   ]
  },
  {
   "cell_type": "code",
   "execution_count": 2,
   "metadata": {},
   "outputs": [
    {
     "name": "stdout",
     "output_type": "stream",
     "text": [
      "1,2,3,4,8,12,11,10,9,5,6,7\n"
     ]
    }
   ],
   "source": [
    "array = [\n",
    "    [1, 2, 3, 4],\n",
    "    [5, 6, 7, 8],\n",
    "    [9, 10, 11, 12],\n",
    "]\n",
    "\n",
    "echo_array_clockwise(array)"
   ]
  },
  {
   "cell_type": "code",
   "execution_count": 3,
   "metadata": {},
   "outputs": [],
   "source": [
    "def echo_array_anticlockwise(array):\n",
    "    \"\"\"逆时针输出二维数组\n",
    "    \"\"\"\n",
    "    min_row, max_row = 0, len(array) - 1\n",
    "    min_col, max_col = 0, len(array[0]) - 1\n",
    "    row, col = 0, 0\n",
    "    row_asc, col_asc = True, True\n",
    "    records = []\n",
    "    while (min_row < max_row or min_col < max_col):\n",
    "        # 输出列\n",
    "        if row_asc:\n",
    "            row_range_args = (row, max_row + 1, 1)\n",
    "        else:\n",
    "            row_range_args = (row, min_row - 1, -1)\n",
    "        for row in range(*row_range_args):\n",
    "            records.append(array[row][col])\n",
    "        if row_asc:\n",
    "            max_row -= 1\n",
    "            col += 1\n",
    "        else:\n",
    "            min_row += 1\n",
    "            col -= 1\n",
    "        # 输出行\n",
    "        if col_asc:\n",
    "            col_range_args = (col, max_col + 1, 1)\n",
    "        else:\n",
    "            col_range_args = (col, min_col - 1, -1)\n",
    "        for col in range(*col_range_args):\n",
    "            records.append(array[row][col])\n",
    "        if col_asc:\n",
    "            min_col += 1\n",
    "            row -= 1\n",
    "        else:\n",
    "            max_col -= 1\n",
    "            row += 1\n",
    "            \n",
    "        row_asc = not row_asc\n",
    "        col_asc = not col_asc\n",
    "    print(','.join(map(str, records)))\n",
    "            "
   ]
  },
  {
   "cell_type": "code",
   "execution_count": 4,
   "metadata": {},
   "outputs": [
    {
     "name": "stdout",
     "output_type": "stream",
     "text": [
      "1,5,9,10,11,12,8,4,3,2,6,7\n"
     ]
    }
   ],
   "source": [
    "array = [\n",
    "    [1, 2, 3, 4],\n",
    "    [5, 6, 7, 8],\n",
    "    [9, 10, 11, 12],\n",
    "]\n",
    "\n",
    "echo_array_anticlockwise(array)"
   ]
  }
 ],
 "metadata": {
  "kernelspec": {
   "display_name": "Python 3",
   "language": "python",
   "name": "python3"
  },
  "language_info": {
   "codemirror_mode": {
    "name": "ipython",
    "version": 3
   },
   "file_extension": ".py",
   "mimetype": "text/x-python",
   "name": "python",
   "nbconvert_exporter": "python",
   "pygments_lexer": "ipython3",
   "version": "3.8.5"
  }
 },
 "nbformat": 4,
 "nbformat_minor": 4
}

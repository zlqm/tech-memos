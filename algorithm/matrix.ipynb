{
 "cells": [
  {
   "cell_type": "markdown",
   "metadata": {},
   "source": [
    "# 矩阵\n",
    "\n",
    "* 矩阵的翻转\n",
    "  - 水平翻转\n",
    "  - 垂直翻转\n",
    "  - 对角线翻转\n",
    "  - 反对角线翻转\n",
    " *\n"
   ]
  },
  {
   "cell_type": "code",
   "execution_count": 6,
   "metadata": {},
   "outputs": [],
   "source": [
    "from copy import deepcopy"
   ]
  },
  {
   "cell_type": "markdown",
   "metadata": {},
   "source": [
    "## 水平翻转"
   ]
  },
  {
   "cell_type": "code",
   "execution_count": 10,
   "metadata": {},
   "outputs": [],
   "source": [
    "# code \n",
    "\n",
    "def horizontal_reverse(array):\n",
    "    array = deepcopy(array)\n",
    "    width = len(array[0])\n",
    "    for row in array:\n",
    "        for i in range(width // 2):\n",
    "            target_i = width - i - 1\n",
    "            row[i], row[target_i] = row[target_i], row[i]\n",
    "    return array\n",
    "\n",
    "# test case\n",
    "array = [\n",
    "    [1, 2, 3, 4],\n",
    "    [5, 6, 7, 8],\n",
    "    [9, 10, 11, 12]\n",
    "]\n",
    "\n",
    "expected = [\n",
    "    [4, 3, 2, 1],\n",
    "    [8, 7, 6, 5],\n",
    "    [12, 11, 10, 9],\n",
    "]\n",
    "\n",
    "assert horizontal_reverse(array) == expected"
   ]
  },
  {
   "cell_type": "markdown",
   "metadata": {},
   "source": [
    "## 垂直翻转"
   ]
  },
  {
   "cell_type": "code",
   "execution_count": 13,
   "metadata": {},
   "outputs": [],
   "source": [
    "# code\n",
    "def vertical_reverse(array):\n",
    "    array = deepcopy(array)\n",
    "    width, height = len(array[0]), len(array)\n",
    "    for col_index in range(width):\n",
    "        for row_index in range(height // 2):\n",
    "            target_row_index = height - row_index - 1\n",
    "            array[row_index][col_index], array[target_row_index][col_index] = \\\n",
    "                array[target_row_index][col_index], array[row_index][col_index]\n",
    "    return array\n",
    "\n",
    "# test case\n",
    "array = [\n",
    "    [1, 2, 3, 4],\n",
    "    [5, 6, 7, 8],\n",
    "    [9, 10, 11, 12]\n",
    "]\n",
    "expected = [\n",
    "    [9, 10, 11, 12],\n",
    "    [5, 6, 7, 8],\n",
    "    [1, 2, 3, 4],\n",
    "]\n",
    "assert vertical_reverse(array) == expected"
   ]
  },
  {
   "cell_type": "markdown",
   "metadata": {},
   "source": [
    "## 对角线(\\\\)翻转"
   ]
  },
  {
   "cell_type": "code",
   "execution_count": 17,
   "metadata": {},
   "outputs": [],
   "source": [
    "# code\n",
    "def backslash_reverse(array):\n",
    "    array = deepcopy(array)\n",
    "    width, height = len(array[0]), len(array)\n",
    "    for row_index in range(1, height):\n",
    "        for col_index in range(row_index):\n",
    "            array[row_index][col_index], array[col_index][row_index] = \\\n",
    "                array[col_index][row_index], array[row_index][col_index]\n",
    "    return array\n",
    "\n",
    "# test case\n",
    "array = [\n",
    "    [1,   2,  3,  4],\n",
    "    [5,   6,  7,  8],\n",
    "    [9,  10, 11, 12],\n",
    "    [13, 14, 15, 16],\n",
    "]\n",
    "expected = [\n",
    "    [1, 5, 9, 13],\n",
    "    [2, 6, 10, 14],\n",
    "    [3, 7, 11, 15],\n",
    "    [4, 8, 12, 16]\n",
    "]\n",
    "assert backslash_reverse(array) == expected"
   ]
  },
  {
   "cell_type": "markdown",
   "metadata": {},
   "source": [
    "## 反对角线(/)翻转"
   ]
  },
  {
   "cell_type": "code",
   "execution_count": 20,
   "metadata": {},
   "outputs": [],
   "source": [
    "# code\n",
    "def slash_reverse(array):\n",
    "    array = deepcopy(array)\n",
    "    width, height = len(array[0]), len(array)\n",
    "    for row_index in range(height - 1):\n",
    "        for col_index in range(width - row_index - 1):\n",
    "            target_col = width - 1 - row_index\n",
    "            target_row = width - 1 - col_index\n",
    "            array[row_index][col_index], array[target_row][target_col] = \\\n",
    "                array[target_row][target_col], array[row_index][col_index]\n",
    "    return array\n",
    "\n",
    "# test case\n",
    "\n",
    "array = [\n",
    "    [1,   2,  3,  4],\n",
    "    [5,   6,  7,  8],\n",
    "    [9,  10, 11, 12],\n",
    "    [13, 14, 15, 16],\n",
    "]\n",
    "expected = [\n",
    "    [16, 12, 8, 4],\n",
    "    [15, 11, 7, 3],\n",
    "    [14, 10, 6, 2],\n",
    "    [13,  9, 5, 1]\n",
    "]\n",
    "\n",
    "assert slash_reverse(array) == expected"
   ]
  },
  {
   "cell_type": "code",
   "execution_count": null,
   "metadata": {},
   "outputs": [],
   "source": []
  },
  {
   "cell_type": "code",
   "execution_count": null,
   "metadata": {},
   "outputs": [],
   "source": []
  }
 ],
 "metadata": {
  "kernelspec": {
   "display_name": "Python 3",
   "language": "python",
   "name": "python3"
  },
  "language_info": {
   "codemirror_mode": {
    "name": "ipython",
    "version": 3
   },
   "file_extension": ".py",
   "mimetype": "text/x-python",
   "name": "python",
   "nbconvert_exporter": "python",
   "pygments_lexer": "ipython3",
   "version": "3.8.5"
  }
 },
 "nbformat": 4,
 "nbformat_minor": 4
}

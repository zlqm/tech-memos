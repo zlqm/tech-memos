{
 "cells": [
  {
   "cell_type": "markdown",
   "metadata": {},
   "source": [
    "# IP 遍历"
   ]
  },
  {
   "cell_type": "markdown",
   "metadata": {},
   "source": [
    "## 描述\n",
    "给一个很长的纯数字串，打印出所有合法的ip"
   ]
  },
  {
   "cell_type": "markdown",
   "metadata": {},
   "source": [
    "## 示例\n",
    "\n",
    "### 例1\n",
    "\n",
    "* 输入: 1234\n",
    "* 输出: 1.2.3.4\n",
    "\n",
    "### 例2\n",
    "\n",
    "* 输入: 12345\n",
    "* 输出: \n",
    "    - 1.2.3.4\n",
    "    - 1.2.3.45\n",
    "    - 1.2.34.5\n",
    "    - 1.23.4.5\n",
    "    - 12.3.4.5\n",
    "    - 2.3.4.5"
   ]
  },
  {
   "cell_type": "markdown",
   "metadata": {},
   "source": [
    "\n",
    "## 代码"
   ]
  },
  {
   "cell_type": "code",
   "execution_count": 1,
   "metadata": {},
   "outputs": [],
   "source": [
    "def get_ip_part(string, start_from=0, ip_parts=None):\n",
    "    ip_parts = ip_parts or []\n",
    "    if start_from >= len(string) or len(ip_parts) >= 4:\n",
    "        return\n",
    "    for i in range(start_from + 1, start_from + 3):\n",
    "        if i > len(string):\n",
    "            break\n",
    "        ip_part = string[start_from: i]\n",
    "        if int(ip_part) > 255:\n",
    "            break\n",
    "        new_ip_parts = ip_parts + [ip_part]\n",
    "        if len(new_ip_parts) == 4:\n",
    "            print('.'.join(new_ip_parts))\n",
    "        else:\n",
    "            get_ip_part(string, i, new_ip_parts)\n",
    "\n",
    "def echo_ip(string):\n",
    "    if len(string) < 4:\n",
    "        return\n",
    "    get_ip_part(string)\n",
    "    return echo_ip(string[1:])"
   ]
  },
  {
   "cell_type": "code",
   "execution_count": 2,
   "metadata": {},
   "outputs": [
    {
     "name": "stdout",
     "output_type": "stream",
     "text": [
      "1.2.3.4\n"
     ]
    }
   ],
   "source": [
    "echo_ip('1234')"
   ]
  },
  {
   "cell_type": "code",
   "execution_count": 3,
   "metadata": {},
   "outputs": [
    {
     "name": "stdout",
     "output_type": "stream",
     "text": [
      "1.2.3.4\n",
      "1.2.3.45\n",
      "1.2.34.5\n",
      "1.23.4.5\n",
      "12.3.4.5\n",
      "2.3.4.5\n"
     ]
    }
   ],
   "source": [
    "echo_ip('12345')"
   ]
  },
  {
   "cell_type": "code",
   "execution_count": null,
   "metadata": {},
   "outputs": [],
   "source": []
  },
  {
   "cell_type": "code",
   "execution_count": null,
   "metadata": {},
   "outputs": [],
   "source": []
  }
 ],
 "metadata": {
  "kernelspec": {
   "display_name": "Python 3",
   "language": "python",
   "name": "python3"
  },
  "language_info": {
   "codemirror_mode": {
    "name": "ipython",
    "version": 3
   },
   "file_extension": ".py",
   "mimetype": "text/x-python",
   "name": "python",
   "nbconvert_exporter": "python",
   "pygments_lexer": "ipython3",
   "version": "3.8.5"
  }
 },
 "nbformat": 4,
 "nbformat_minor": 4
}

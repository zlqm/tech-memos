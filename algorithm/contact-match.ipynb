{
 "cells": [
  {
   "cell_type": "markdown",
   "metadata": {},
   "source": [
    "\n",
    "\n",
    "# 联系人搜索"
   ]
  },
  {
   "cell_type": "markdown",
   "metadata": {},
   "source": [
    "## 描述\n",
    "在通讯录里搜索联系人里，用户习惯使用拼音缩写，我们定义如下的搜索匹配规则：\n",
    "以搜索王海宝（WangHaiBao）为例，如下输入均能够匹配到该人（注意：举例只是为阅读方便，实际实现不区分大小写）：\n",
    "- 每字的首字母缩写：W，WH，WHB\n",
    "- 每字或者全拼或者首字母：WH，WangH符合规则，但WanH，WanH，WangHaB不可\n",
    "- 要顺序出现：WHB可以，WB，HB，HBao不可\n",
    "- 最后的输入可以是部分：Wan，WHa，WHBa可以，但WHBo不可\n",
    "\n"
   ]
  },
  {
   "cell_type": "code",
   "execution_count": 1,
   "metadata": {},
   "outputs": [],
   "source": [
    "def match(source, pattern):\n",
    "    # 匹配规则分为三种\n",
    "    #   1. 首字母匹配\n",
    "    #   2. 全匹配\n",
    "    #   3. 最后一个单词头部匹配\n",
    "    # 特殊情况：\n",
    "    #   前面一个单词包含后面一个单词\n",
    "    if not pattern:\n",
    "        return True\n",
    "    if pattern and not source:\n",
    "        return False\n",
    "    word = source[0]\n",
    "    if word[0] != pattern[0]:\n",
    "        return False\n",
    "    if len(source) == 1:  # last word\n",
    "        return word.startswith(pattern)\n",
    "    if pattern[:len(word)] == word:\n",
    "        if match(source[1:], pattern[len(word):]):\n",
    "            return True\n",
    "        else:\n",
    "            return match(source[1:], pattern[1:])\n",
    "    else:\n",
    "        return match(source[1:], pattern[1:])"
   ]
  },
  {
   "cell_type": "code",
   "execution_count": 2,
   "metadata": {},
   "outputs": [],
   "source": [
    "source = ['wang', 'an', 'shi']\n",
    "assert match(source, 'wanganshi') is True\n",
    "assert match(source, 'wangansh') is True\n",
    "assert match(source, 'wa') is True\n",
    "assert match(source, 'was') is True\n",
    "assert match(source, 'wanghi') is False\n",
    "\n",
    "source = ['wan', 'an', 'shi']\n",
    "assert match(source, 'wa') is True\n",
    "assert match(source, 'wan') is True\n",
    "assert match(source, 'wans') is True"
   ]
  }
 ],
 "metadata": {
  "kernelspec": {
   "display_name": "Python 3",
   "language": "python",
   "name": "python3"
  },
  "language_info": {
   "codemirror_mode": {
    "name": "ipython",
    "version": 3
   },
   "file_extension": ".py",
   "mimetype": "text/x-python",
   "name": "python",
   "nbconvert_exporter": "python",
   "pygments_lexer": "ipython3",
   "version": "3.8.5"
  }
 },
 "nbformat": 4,
 "nbformat_minor": 4
}

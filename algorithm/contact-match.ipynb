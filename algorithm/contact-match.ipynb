{
 "cells": [
  {
   "cell_type": "markdown",
   "metadata": {},
   "source": [
    "\n",
    "\n",
    "# 联系人搜索"
   ]
  },
  {
   "cell_type": "markdown",
   "metadata": {},
   "source": [
    "## 描述\n",
    "在通讯录里搜索联系人里，用户习惯使用拼音缩写，我们定义如下的搜索匹配规则：\n",
    "以搜索王海宝（WangHaiBao）为例，如下输入均能够匹配到该人（注意：举例只是为阅读方便，实际实现不区分大小写）：\n",
    "- 每字的首字母缩写：W，WH，WHB\n",
    "- 每字或者全拼或者首字母：WH，WangH符合规则，但WanH，WanH，WangHaB不可\n",
    "- 要顺序出现：WHB可以，WB，HB，HBao不可\n",
    "- 最后的输入可以是部分：Wan，WHa，WHBa可以，但WHBo不可\n",
    "\n"
   ]
  },
  {
   "cell_type": "code",
   "execution_count": 1,
   "metadata": {},
   "outputs": [],
   "source": [
    "def get_word_and_index(source, word_index, char_index):\n",
    "    if word_index >= len(source):\n",
    "        return None, None, None\n",
    "    word = source[word_index]\n",
    "    if char_index >= len(word):\n",
    "        return get_word_and_index(source, word_index + 1, 0)\n",
    "    else:\n",
    "        return word, word_index, char_index\n",
    "\n",
    "\n",
    "def match(source, pattern):\n",
    "    word_index, char_index = 0, 0\n",
    "    for char in pattern:\n",
    "        word, word_index, char_index = get_word_and_index(source, word_index, char_index)\n",
    "        if not word:\n",
    "            return False\n",
    "        if char == word[char_index]:\n",
    "            char_index += 1\n",
    "            continue\n",
    "        else:\n",
    "            next_word, _, _ = get_word_and_index(source, word_index+1, 0)\n",
    "            if char == next_word[0] and char_index != 1:\n",
    "                return False\n",
    "            word_index += 1\n",
    "            char_index = 1\n",
    "    return True\n",
    "                "
   ]
  },
  {
   "cell_type": "code",
   "execution_count": 2,
   "metadata": {},
   "outputs": [],
   "source": [
    "source = [\"wang\", \"hai\", \"bao\", None]\n",
    "assert match(source, 'w') is True\n",
    "assert match(source, 'wan') is True\n",
    "assert match(source, 'wang') is True\n",
    "assert match(source, 'wangh') is True\n",
    "assert match(source, 'wanghaib') is True\n",
    "assert match(source, 'wh') is True\n",
    "assert match(source, 'whb') is True\n",
    "assert match(source, 'wanhb') is False\n",
    "assert match(source, 'whb') is True\n",
    "assert match(source, 'whba') is True"
   ]
  },
  {
   "cell_type": "code",
   "execution_count": null,
   "metadata": {},
   "outputs": [],
   "source": []
  },
  {
   "cell_type": "code",
   "execution_count": null,
   "metadata": {},
   "outputs": [],
   "source": []
  },
  {
   "cell_type": "code",
   "execution_count": null,
   "metadata": {},
   "outputs": [],
   "source": []
  }
 ],
 "metadata": {
  "kernelspec": {
   "display_name": "Python 3",
   "language": "python",
   "name": "python3"
  },
  "language_info": {
   "codemirror_mode": {
    "name": "ipython",
    "version": 3
   },
   "file_extension": ".py",
   "mimetype": "text/x-python",
   "name": "python",
   "nbconvert_exporter": "python",
   "pygments_lexer": "ipython3",
   "version": "3.8.5"
  }
 },
 "nbformat": 4,
 "nbformat_minor": 4
}

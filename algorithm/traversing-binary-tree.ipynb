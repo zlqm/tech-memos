{
 "cells": [
  {
   "cell_type": "markdown",
   "metadata": {},
   "source": [
    "# 二叉树遍历"
   ]
  },
  {
   "cell_type": "markdown",
   "metadata": {},
   "source": [
    "## 描述\n",
    "\n",
    "给一棵int二叉树和一个整数sum，要求从根节点出发，累加和等于sum的完整路径"
   ]
  },
  {
   "cell_type": "markdown",
   "metadata": {},
   "source": [
    "## 示例\n",
    "\n",
    "```\n",
    "     2\n",
    "   /   \\\n",
    "  7     5\n",
    " / \\     \\\n",
    "2   6     9\n",
    "   / \\   /\n",
    "  5  11 4\n",
    "\n",
    "```\n",
    "\n",
    "- 例1\n",
    "  * 输入: sum=15\n",
    "  * 输出: 2->7->6\n",
    "  \n",
    "- 例2\n",
    "  * 输入: sum=20\n",
    "  * 输出: \n",
    "    - 2->7->6->5\n",
    "    - 2->5->9->4"
   ]
  },
  {
   "cell_type": "code",
   "execution_count": 1,
   "metadata": {},
   "outputs": [],
   "source": [
    "class Node:\n",
    "    def __init__(self, value, left=None, right=None):\n",
    "        self.value = value\n",
    "        self.left = left\n",
    "        self.right = right\n",
    "\n",
    "        \n",
    "def echo_sum_path(btree, sum_value, path=None):\n",
    "    path = path or []\n",
    "    if btree.value == sum_value:\n",
    "        print('->'.join(map(str, path + [btree.value])))\n",
    "        return\n",
    "    if btree.left:\n",
    "        new_path = path + [btree.value]\n",
    "        echo_sum_path(btree.left, sum_value - btree.value, path=new_path)\n",
    "    if btree.right:\n",
    "        new_path = path + [btree.value]\n",
    "        echo_sum_path(btree.right, sum_value - btree.value, path=new_path)"
   ]
  },
  {
   "cell_type": "code",
   "execution_count": 2,
   "metadata": {},
   "outputs": [],
   "source": [
    "btree = Node(\n",
    "    2,\n",
    "    Node(\n",
    "        7,\n",
    "        Node(2),\n",
    "        Node(6, Node(5),Node(11))\n",
    "    ),\n",
    "    Node(\n",
    "        5, \n",
    "        None,\n",
    "        Node(9, Node(4))\n",
    "    )\n",
    ")"
   ]
  },
  {
   "cell_type": "code",
   "execution_count": 3,
   "metadata": {},
   "outputs": [
    {
     "name": "stdout",
     "output_type": "stream",
     "text": [
      "2->7->6\n"
     ]
    }
   ],
   "source": [
    "echo_sum_path(btree, 15)"
   ]
  },
  {
   "cell_type": "code",
   "execution_count": 4,
   "metadata": {},
   "outputs": [
    {
     "name": "stdout",
     "output_type": "stream",
     "text": [
      "2->7->6->5\n",
      "2->5->9->4\n"
     ]
    }
   ],
   "source": [
    "echo_sum_path(btree, 20)"
   ]
  },
  {
   "cell_type": "code",
   "execution_count": null,
   "metadata": {},
   "outputs": [],
   "source": []
  }
 ],
 "metadata": {
  "kernelspec": {
   "display_name": "Python 3",
   "language": "python",
   "name": "python3"
  },
  "language_info": {
   "codemirror_mode": {
    "name": "ipython",
    "version": 3
   },
   "file_extension": ".py",
   "mimetype": "text/x-python",
   "name": "python",
   "nbconvert_exporter": "python",
   "pygments_lexer": "ipython3",
   "version": "3.8.5"
  }
 },
 "nbformat": 4,
 "nbformat_minor": 4
}
